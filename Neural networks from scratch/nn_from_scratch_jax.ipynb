{
  "nbformat": 4,
  "nbformat_minor": 0,
  "metadata": {
    "colab": {
      "name": "nn_from_scratch_jax.ipynb",
      "provenance": []
    },
    "kernelspec": {
      "name": "python3",
      "display_name": "Python 3"
    },
    "language_info": {
      "name": "python"
    }
  },
  "cells": [
    {
      "cell_type": "markdown",
      "source": [
        "# **Neural Network (Multilayer perceptron) using plain JAX**\n",
        "\n"
      ],
      "metadata": {
        "id": "IO8KN9zh6dSX"
      }
    },
    {
      "cell_type": "code",
      "execution_count": 27,
      "metadata": {
        "id": "XHIYJ0vu2R1g"
      },
      "outputs": [],
      "source": [
        "import numpy as np\n",
        "import jax\n",
        "import jax.numpy as jnp\n",
        "from jax.scipy.special import logsumexp\n",
        "from jax import jit, vmap, pmap, grad, value_and_grad\n",
        "from torchvision.datasets import MNIST\n",
        "from torch.utils.data import DataLoader"
      ]
    },
    {
      "cell_type": "code",
      "source": [
        "seed = 2137\n",
        "key = jax.random.PRNGKey(seed)\n",
        "\n",
        "mnist_img_size = (28, 28)\n",
        "\n",
        "batch_size = 128\n",
        "num_epochs = 5\n",
        "lr = 0.01"
      ],
      "metadata": {
        "id": "w7t_2I0s4KVT"
      },
      "execution_count": 28,
      "outputs": []
    },
    {
      "cell_type": "code",
      "source": [
        "def custom_transform(x):\n",
        "    return np.ravel(np.array(x, dtype=np.float32))\n",
        "\n",
        "def custom_collate_fn(batch):\n",
        "    transposed_data = list(zip(*batch))\n",
        "\n",
        "    labels = np.array(transposed_data[1])\n",
        "    imgs = np.array(transposed_data[0])\n",
        "\n",
        "    return imgs, labels"
      ],
      "metadata": {
        "id": "ipWho0ur3VfA"
      },
      "execution_count": 29,
      "outputs": []
    },
    {
      "cell_type": "code",
      "source": [
        "train_dataset = MNIST(root='train_mnist', train=True, download=True, transform=custom_transform)\n",
        "test_dataset = MNIST(root='test_mnist', train=False, download=True, transform=custom_transform)\n",
        "\n",
        "train_loader = DataLoader(train_dataset, batch_size, shuffle=True, collate_fn=custom_collate_fn, drop_last=True)\n",
        "test_loader = DataLoader(test_dataset, batch_size, shuffle=False, collate_fn=custom_collate_fn, drop_last=True)"
      ],
      "metadata": {
        "id": "8YiLWg1tCLza"
      },
      "execution_count": 30,
      "outputs": []
    },
    {
      "cell_type": "code",
      "source": [
        "# loading the whole dataset into memory\n",
        "train_images = jnp.array(train_dataset.data).reshape(len(train_dataset), -1)\n",
        "train_lbls = jnp.array(train_dataset.targets)\n",
        "\n",
        "test_images = jnp.array(test_dataset.data).reshape(len(test_dataset), -1)\n",
        "test_lbls = jnp.array(test_dataset.targets)"
      ],
      "metadata": {
        "id": "7FAYoauD4FvW"
      },
      "execution_count": 31,
      "outputs": []
    },
    {
      "cell_type": "code",
      "source": [
        "def init_NN(layer_widths, parent_key, scale=0.01):\n",
        "\n",
        "    params = []\n",
        "    keys = jax.random.split(parent_key, num=len(layer_widths)-1)\n",
        "\n",
        "    for in_width, out_width, key in zip(layer_widths[:-1], layer_widths[1:], keys):\n",
        "        weight_key, bias_key = jax.random.split(key)\n",
        "        params.append([scale*jax.random.normal(weight_key, shape=(out_width, in_width)),\n",
        "                       scale*jax.random.normal(bias_key, shape=(out_width,))])\n",
        "\n",
        "    return params"
      ],
      "metadata": {
        "id": "j_lckaj93buz"
      },
      "execution_count": 32,
      "outputs": []
    },
    {
      "cell_type": "code",
      "source": [
        "def NN_predict(params, x):\n",
        "    hidden_layers = params[:-1]\n",
        "\n",
        "    activation = x\n",
        "    for w, b in hidden_layers:\n",
        "        activation = jax.nn.relu(jnp.dot(w, activation) + b)\n",
        "\n",
        "    w_last, b_last = params[-1]\n",
        "    logits = jnp.dot(w_last, activation) + b_last\n",
        "\n",
        "    return logits - logsumexp(logits)"
      ],
      "metadata": {
        "id": "z4dMonHt3iYM"
      },
      "execution_count": 33,
      "outputs": []
    },
    {
      "cell_type": "code",
      "source": [
        "# test batched function\n",
        "batched_NN_predict = vmap(NN_predict, in_axes=(None, 0))"
      ],
      "metadata": {
        "id": "q2UKZMOY5BLG"
      },
      "execution_count": 34,
      "outputs": []
    },
    {
      "cell_type": "code",
      "source": [
        "def loss_fn(params, imgs, gt_lbls):\n",
        "    predictions = batched_NN_predict(params, imgs)\n",
        "\n",
        "    return -jnp.mean(predictions * gt_lbls)\n",
        "\n",
        "def accuracy(params, dataset_imgs, dataset_lbls):\n",
        "    pred_classes = jnp.argmax(batched_NN_predict(params, dataset_imgs), axis=1)\n",
        "    return jnp.mean(dataset_lbls == pred_classes)\n",
        "\n",
        "@jit\n",
        "def update(params, imgs, gt_lbls, lr=lr):\n",
        "    loss, grads = value_and_grad(loss_fn)(params, imgs, gt_lbls)\n",
        "\n",
        "    return loss, jax.tree_multimap(lambda p, gradient: p - lr*gradient, params, grads)\n",
        "\n",
        "# Create a MLP\n",
        "NN_params = init_NN([np.prod(mnist_img_size), 512, 256, len(MNIST.classes)], key)\n",
        "\n",
        "for epoch in range(num_epochs):\n",
        "\n",
        "    for cnt, (imgs, lbls) in enumerate(train_loader):\n",
        "\n",
        "        gt_labels = jax.nn.one_hot(lbls, len(MNIST.classes))\n",
        "        \n",
        "        loss, NN_params = update(NN_params, imgs, gt_labels)\n",
        "        \n",
        "\n",
        "    print(f'Epoch {epoch}, train acc = {accuracy(NN_params, train_images, train_lbls)} test acc = {accuracy(NN_params, test_images, test_lbls)}')\n",
        "\n"
      ],
      "metadata": {
        "colab": {
          "base_uri": "https://localhost:8080/"
        },
        "id": "umeU9EiW3w-Y",
        "outputId": "c3ad9a30-52ec-42e8-ca9e-a9c184bc4f7e"
      },
      "execution_count": 35,
      "outputs": [
        {
          "output_type": "stream",
          "name": "stdout",
          "text": [
            "Epoch 0, train acc = 0.9097833633422852 test acc = 0.9146999716758728\n",
            "Epoch 1, train acc = 0.9337999820709229 test acc = 0.9323999881744385\n",
            "Epoch 2, train acc = 0.9447667002677917 test acc = 0.9429999589920044\n",
            "Epoch 3, train acc = 0.951200008392334 test acc = 0.9490999579429626\n",
            "Epoch 4, train acc = 0.959766685962677 test acc = 0.9559999704360962\n"
          ]
        }
      ]
    },
    {
      "cell_type": "code",
      "source": [
        ""
      ],
      "metadata": {
        "id": "Xk5ODXGP32Mm"
      },
      "execution_count": 35,
      "outputs": []
    }
  ]
}