{
  "nbformat": 4,
  "nbformat_minor": 0,
  "metadata": {
    "colab": {
      "name": "Workshop1: 1.b VAE - Solved",
      "provenance": [],
      "collapsed_sections": []
    },
    "kernelspec": {
      "name": "python3",
      "display_name": "Python 3"
    },
    "accelerator": "GPU"
  },
  "cells": [
    {
      "metadata": {
        "id": "8OsY4hSNbfri"
      },
      "cell_type": "markdown",
      "source": [
        "# Variational Autoencoder"
      ]
    },
    {
      "metadata": {
        "id": "bmwEpMs7vtPS",
        "outputId": "9674e5af-31e6-41d8-9fda-2739cbcebd60",
        "colab": {
          "base_uri": "https://localhost:8080/",
          "height": 34
        }
      },
      "cell_type": "code",
      "source": [
        "# check Pillow version\n",
        "import PIL\n",
        "print(PIL.PILLOW_VERSION)"
      ],
      "execution_count": null,
      "outputs": [
        {
          "output_type": "stream",
          "text": [
            "5.3.0\n"
          ],
          "name": "stdout"
        }
      ]
    },
    {
      "metadata": {
        "id": "Rn27-yVJVkBT"
      },
      "cell_type": "code",
      "source": [
        "import os\n",
        "\n",
        "directory = '/content/results/'\n",
        "if not os.path.exists(directory):\n",
        "  os.makedirs(directory)"
      ],
      "execution_count": null,
      "outputs": []
    },
    {
      "metadata": {
        "id": "kGjth91rT2ad",
        "outputId": "84f11a71-8358-417f-c682-de7e5f0dacbd",
        "colab": {
          "base_uri": "https://localhost:8080/",
          "height": 207
        }
      },
      "cell_type": "code",
      "source": [
        "! pip3 install torch torchvision\n",
        "! pip3 install pillow"
      ],
      "execution_count": null,
      "outputs": [
        {
          "output_type": "stream",
          "text": [
            "Requirement already satisfied: torch in /usr/local/lib/python3.6/dist-packages (1.0.0)\n",
            "Collecting torchvision\n",
            "\u001b[?25l  Downloading https://files.pythonhosted.org/packages/ca/0d/f00b2885711e08bd71242ebe7b96561e6f6d01fdb4b9dcf4d37e2e13c5e1/torchvision-0.2.1-py2.py3-none-any.whl (54kB)\n",
            "\u001b[K    100% |████████████████████████████████| 61kB 2.0MB/s \n",
            "\u001b[?25hRequirement already satisfied: pillow>=4.1.1 in /usr/local/lib/python3.6/dist-packages (from torchvision) (5.3.0)\n",
            "Requirement already satisfied: numpy in /usr/local/lib/python3.6/dist-packages (from torchvision) (1.14.6)\n",
            "Requirement already satisfied: six in /usr/local/lib/python3.6/dist-packages (from torchvision) (1.11.0)\n",
            "Installing collected packages: torchvision\n",
            "Successfully installed torchvision-0.2.1\n",
            "Requirement already satisfied: pillow in /usr/local/lib/python3.6/dist-packages (5.3.0)\n"
          ],
          "name": "stdout"
        }
      ]
    },
    {
      "metadata": {
        "id": "R75oNahj5Z3S"
      },
      "cell_type": "code",
      "source": [
        "import numpy as np\n",
        "import torch\n",
        "import torch.utils.data\n",
        "\n",
        "from torch import nn, optim\n",
        "from torch.nn import functional as F\n",
        "from torchvision import datasets, transforms\n",
        "from torchvision.utils import save_image"
      ],
      "execution_count": null,
      "outputs": []
    },
    {
      "metadata": {
        "id": "vxiJQitlLxBR"
      },
      "cell_type": "markdown",
      "source": [
        "## Variational Autoencoder\n",
        "Please remember the training objective (ELBO) from the slides:\n",
        "$$\n",
        " \\underbrace{\n",
        "  \\mathbb{E}_{z \\sim q_\\phi(z|x)} \\big[ \\log p_{\\theta(x \\,|\\, z)}  \\big]\n",
        "}_{-\\frac{1}{2} ||x - \\hat{x}) ||^2 \\, + \\, C} \n",
        "-\n",
        "\\underbrace{\n",
        "    D_{KL}\\big[q_{\\phi}( z \\,|\\, x) \\,||\\, p(z)\\big]\n",
        "}_{\n",
        "\\frac{1}{2} \\sum_{i=1}^k \n",
        "  \\big( \n",
        "    \\sigma^2_i + \\mu_i^2 - \\log \\sigma^2_i - 1\n",
        "  \\big)\n",
        "}\n",
        "$$ that we wan't to maximize. PyTorch optimizers are designed for gradient *descent*, so please modify the training loss accordingly."
      ]
    },
    {
      "metadata": {
        "id": "82AL27KjxMd_"
      },
      "cell_type": "markdown",
      "source": [
        "## Vanilla VAE"
      ]
    },
    {
      "metadata": {
        "id": "Lz6pe9Nw024j"
      },
      "cell_type": "code",
      "source": [
        "def reconstruction_loss(x, y):\n",
        "    ''' \n",
        "    Implements the reconstruction losss\n",
        "    '''\n",
        "    return 0.5 * torch.sum(torch.pow(x - y.view(y.size(0), -1), 2)) / x.size(0)\n",
        "  \n",
        "    # If you use BCE you'll end up with a Bernoulli distributed generator\n",
        "    # return F.binary_cross_entropy(x, y, reduction=\"sum\") / x.size(0)\n",
        "\n",
        "\n",
        "def kl_loss(mu, log_var):\n",
        "    kl_div = -0.5 * torch.sum(1 + log_var - mu.pow(2) - log_var.exp())\n",
        "    kl_div = kl_div / mu.size(0)  # mean over batch\n",
        "    \n",
        "    return kl_div\n",
        "  \n",
        "\n",
        "def reparameterize(mu, log_var):\n",
        "    '''\n",
        "    Note: one common trick is to force the inference network to output\n",
        "    the logarithm of variance, as its range all real numbers \n",
        "    '''  \n",
        "\n",
        "    std = torch.exp(0.5*log_var)\n",
        "    eps = torch.randn_like(std)\n",
        "    return mu + std*eps"
      ],
      "execution_count": null,
      "outputs": []
    },
    {
      "metadata": {
        "id": "g3CO-FWqSUdH"
      },
      "cell_type": "code",
      "source": [
        "class VAE(nn.Module):\n",
        "    '''\n",
        "    On Mnist\n",
        "    '''\n",
        "    def __init__(self, \n",
        "                 feature_size: int = 784,\n",
        "                 hidden_size: int = 400,\n",
        "                 code_size: int = 20):\n",
        "        super(VAE, self).__init__()\n",
        "        self.code_size = code_size\n",
        "        self.feature_size = feature_size\n",
        "\n",
        "        self.encoder = nn.Sequential(\n",
        "            nn.Linear(feature_size, hidden_size),\n",
        "            nn.ReLU(True),\n",
        "            nn.Linear(hidden_size, code_size * 2)\n",
        "        )\n",
        "\n",
        "        self.decoder = nn.Sequential(\n",
        "            nn.Linear(code_size, hidden_size),\n",
        "            nn.ReLU(True),\n",
        "            nn.Linear(hidden_size, feature_size),\n",
        "            nn.Sigmoid()\n",
        "        )\n",
        "\n",
        "\n",
        "    def forward(self, x):\n",
        "      x = x.view(-1, self.feature_size)\n",
        "\n",
        "      # split the activations from the inference network in two\n",
        "      mu, log_var = self.encoder(x).chunk(2, dim=1)\n",
        "\n",
        "      z = reparameterize(mu, log_var)\n",
        "\n",
        "      return self.decoder(z), kl_loss(mu, log_var)"
      ],
      "execution_count": null,
      "outputs": []
    },
    {
      "metadata": {
        "id": "iHu9QbCODRkE"
      },
      "cell_type": "code",
      "source": [
        "%matplotlib inline\n",
        "import matplotlib.pyplot as plt\n",
        "\n",
        "from typing import Tuple, List\n",
        "\n",
        "def plot_losses(total_losses, rec_losses, kl_losses, phase):\n",
        "  fig, ax = plt.subplots()\n",
        "  plt.plot(np.array(kl_losses), label='KL')\n",
        "  plt.plot(np.array(rec_losses), label='Reconstruction loss')\n",
        "  plt.plot(np.array(total_losses), label='ELBO')\n",
        "  plt.title(f\"Losses: {phase}\")\n",
        "  plt.legend()\n",
        "  plt.show()\n",
        "  \n",
        "\n",
        "\n",
        "def update(new: Tuple[List], old: Tuple[List]) -> Tuple[List]:\n",
        "    '''\n",
        "    Helper function to update training history\n",
        "    '''\n",
        "    for new_list, old_list in zip(new, old):\n",
        "        old_list.extend(new_list)\n",
        "        \n",
        "    return old"
      ],
      "execution_count": null,
      "outputs": []
    },
    {
      "metadata": {
        "id": "YFYcafr0SZma"
      },
      "cell_type": "code",
      "source": [
        "class Trainer:\n",
        "    def __init__(self, model, train_loader, test_loader,\n",
        "                 log_interval: int =10,\n",
        "                 batch_size: int =128):\n",
        "      self.model = model\n",
        "      self.train_loader = train_loader\n",
        "      self.test_loader = train_loader\n",
        "\n",
        "      self.log_interval = log_interval\n",
        "      self.batch_size = batch_size\n",
        "      \n",
        "      self.optimizer = optim.Adam(model.parameters(), lr=1e-3)\n",
        "\n",
        "    def train(self, epoch):\n",
        "        self.model.train()\n",
        "        train_loss = 0\n",
        "        \n",
        "        losses, recon_losses, kl_divs = [], [], []\n",
        "        for batch_idx, (data, _) in enumerate(self.train_loader):\n",
        "            data = data.to(device)\n",
        "            self.optimizer.zero_grad()\n",
        "            \n",
        "            recon_batch, kl_div = self.model(data)\n",
        "            recon_loss = reconstruction_loss(recon_batch, data)\n",
        "            loss =  recon_loss + kl_div\n",
        "            loss.backward()\n",
        "            train_loss += loss.item()\n",
        "            self.optimizer.step()\n",
        "\n",
        "            if batch_idx % self.log_interval == 0:\n",
        "                losses.append(loss.item() / len(data))\n",
        "                print('Train Epoch: {} [{}/{} ({:.0f}%)]\\tLoss: {:.6f}'.format(\n",
        "                    epoch, batch_idx * len(data), len(train_loader.dataset),\n",
        "                    100. * batch_idx / len(train_loader), losses[-1]\n",
        "                    ))\n",
        "                \n",
        "                recon_losses.append(recon_loss.item() / len(data))\n",
        "                print('Train Epoch: {} [{}/{} ({:.0f}%)]\\tRecon: {:.6f}'.format(\n",
        "                    epoch, batch_idx * len(data), len(train_loader.dataset),\n",
        "                    100. * batch_idx / len(train_loader), recon_losses[-1]\n",
        "                    ))\n",
        "                \n",
        "                kl_divs.append(kl_div.item() / len(data))\n",
        "                print('Train Epoch: {} [{}/{} ({:.0f}%)]\\tKL: {:.6f}\\n'.format(\n",
        "                    epoch, batch_idx * len(data), len(train_loader.dataset),\n",
        "                    100. * batch_idx / len(train_loader), kl_divs[-1]\n",
        "                    ))\n",
        "                \n",
        "                \n",
        "                \n",
        "\n",
        "        print('====> Epoch: {} Average loss: {:.4f}'.format(\n",
        "              epoch, train_loss / len(train_loader.dataset)))\n",
        "        \n",
        "        return losses, recon_losses, kl_divs\n",
        "\n",
        "\n",
        "    def test(self, epoch, fixed_sample = None):\n",
        "        self.model.eval()\n",
        "        test_loss = 0\n",
        "        losses, recon_losses, kl_divs = [], [], []\n",
        "        \n",
        "        with torch.no_grad():\n",
        "            for batch_idx, (data, _) in enumerate(self.test_loader):\n",
        "                data = data.to(device)                \n",
        "                recon_batch, kl_div = self.model(data)\n",
        "                recon_loss = reconstruction_loss(recon_batch, data)\n",
        "                loss = recon_loss + kl_div\n",
        "                test_loss += loss.item()\n",
        "                \n",
        "                \n",
        "                if batch_idx == 0:\n",
        "                    n = min(data.size(0), 8)\n",
        "                    comparison = torch.cat([\n",
        "                        data[:n],\n",
        "                        recon_batch.view(self.batch_size, 1, 28, 28)[:n]\n",
        "                    ])\n",
        "                    \n",
        "                    save_image(comparison.cpu(),\n",
        "                             f'/content/results/reconstruction_{epoch:03d}.png', nrow=n)\n",
        "            \n",
        "                if batch_idx % self.log_interval == 0:\n",
        "                    losses.append(loss.item() / len(data))\n",
        "                    recon_losses.append(recon_loss.item() / len(data))\n",
        "                    kl_divs.append(kl_div.item() / len(data))\n",
        "              \n",
        "            if not fixed_sample is None:\n",
        "                fixed_sample = fixed_sample.to(device)\n",
        "                recon_sample = self.model.decoder(fixed_sample)\n",
        "                recon_sample = recon_sample.view(-1, 1, 28, 28).cpu()\n",
        "                \n",
        "                sample_name = f'/content/results/fixed_reconstruction_{epoch:03d}.png'\n",
        "                save_image(recon_sample, sample_name)   \n",
        "              \n",
        "\n",
        "        test_loss /= len(test_loader.dataset)\n",
        "        print('====> Test set loss: {:.4f}'.format(test_loss))\n",
        "        return losses, recon_losses, kl_divs\n",
        "        \n",
        "      \n",
        "    def run(self, num_epochs, fixed_sample = None):\n",
        "        train_losses, test_losses = ([],[],[]), ([], [], [])\n",
        "\n",
        "        for epoch in range(1, num_epochs + 1):\n",
        "            update(self.train(epoch), train_losses) \n",
        "            update(self.test(epoch, fixed_sample), test_losses)\n",
        "           \n",
        "            with torch.no_grad():\n",
        "                sample = torch.randn(64, model.code_size).to(device)\n",
        "                sample = model.decoder(sample).cpu()\n",
        "                sample_name = f\"results/sample_{epoch}.png\"\n",
        "                save_image(sample.view(64, 1, 28, 28), sample_name)\n",
        "              \n",
        "        return train_losses, test_losses"
      ],
      "execution_count": null,
      "outputs": []
    },
    {
      "metadata": {
        "id": "BnWkSbKZSxT9",
        "colab": {
          "base_uri": "https://localhost:8080/",
          "height": 119
        },
        "outputId": "4cf01448-3f9d-45a8-e38e-fa976827bdb8"
      },
      "cell_type": "code",
      "source": [
        "# Decide which device we want to run on\n",
        "device = torch.device(\"cuda:0\" if torch.cuda.is_available() else \"cpu\")\n",
        "\n",
        "train_loader = torch.utils.data.DataLoader(\n",
        "    datasets.MNIST('data', train=True, download=True, transform=transforms.ToTensor()),\n",
        "    batch_size=128, shuffle=True)\n",
        "\n",
        "test_loader = torch.utils.data.DataLoader(\n",
        "    datasets.MNIST('data', train=False, transform=transforms.ToTensor()),\n",
        "    batch_size=128, shuffle=True)"
      ],
      "execution_count": null,
      "outputs": [
        {
          "output_type": "stream",
          "text": [
            "Downloading http://yann.lecun.com/exdb/mnist/train-images-idx3-ubyte.gz\n",
            "Downloading http://yann.lecun.com/exdb/mnist/train-labels-idx1-ubyte.gz\n",
            "Downloading http://yann.lecun.com/exdb/mnist/t10k-images-idx3-ubyte.gz\n",
            "Downloading http://yann.lecun.com/exdb/mnist/t10k-labels-idx1-ubyte.gz\n",
            "Processing...\n",
            "Done!\n"
          ],
          "name": "stdout"
        }
      ]
    },
    {
      "metadata": {
        "id": "USdDkY_gS9eI"
      },
      "cell_type": "code",
      "source": [
        "# you can try different sizes\n",
        "code_size = 64 \n",
        "\n",
        "model = VAE(code_size=code_size)\n",
        "model.to(device)\n",
        "\n",
        "trainer = Trainer(\n",
        "    model = model, \n",
        "    train_loader = train_loader,\n",
        "    test_loader = test_loader,\n",
        "    log_interval = 100\n",
        ")"
      ],
      "execution_count": null,
      "outputs": []
    },
    {
      "metadata": {
        "id": "IbF-tFasvkKM",
        "outputId": "53b2fb96-0a10-4695-f61c-2341f7156bc4",
        "colab": {
          "base_uri": "https://localhost:8080/",
          "height": 1887
        }
      },
      "cell_type": "code",
      "source": [
        "train_losses, test_losses = trainer.run(\n",
        "    5, fixed_sample=torch.randn(32, model.code_size)\n",
        ")"
      ],
      "execution_count": null,
      "outputs": [
        {
          "output_type": "stream",
          "text": [
            "Train Epoch: 1 [0/60000 (0%)]\tLoss: 0.717041\n",
            "Train Epoch: 1 [0/60000 (0%)]\tRecon: 0.714796\n",
            "Train Epoch: 1 [0/60000 (0%)]\tKL: 0.002245\n",
            "\n",
            "Train Epoch: 1 [12800/60000 (21%)]\tLoss: 0.211433\n",
            "Train Epoch: 1 [12800/60000 (21%)]\tRecon: 0.206775\n",
            "Train Epoch: 1 [12800/60000 (21%)]\tKL: 0.004658\n",
            "\n",
            "Train Epoch: 1 [25600/60000 (43%)]\tLoss: 0.201599\n",
            "Train Epoch: 1 [25600/60000 (43%)]\tRecon: 0.187654\n",
            "Train Epoch: 1 [25600/60000 (43%)]\tKL: 0.013945\n",
            "\n",
            "Train Epoch: 1 [38400/60000 (64%)]\tLoss: 0.189349\n",
            "Train Epoch: 1 [38400/60000 (64%)]\tRecon: 0.168776\n",
            "Train Epoch: 1 [38400/60000 (64%)]\tKL: 0.020573\n",
            "\n",
            "Train Epoch: 1 [51200/60000 (85%)]\tLoss: 0.185066\n",
            "Train Epoch: 1 [51200/60000 (85%)]\tRecon: 0.158294\n",
            "Train Epoch: 1 [51200/60000 (85%)]\tKL: 0.026771\n",
            "\n",
            "====> Epoch: 1 Average loss: 0.2044\n",
            "====> Test set loss: 1.1053\n",
            "Train Epoch: 2 [0/60000 (0%)]\tLoss: 0.172335\n",
            "Train Epoch: 2 [0/60000 (0%)]\tRecon: 0.145940\n",
            "Train Epoch: 2 [0/60000 (0%)]\tKL: 0.026395\n",
            "\n",
            "Train Epoch: 2 [12800/60000 (21%)]\tLoss: 0.176094\n",
            "Train Epoch: 2 [12800/60000 (21%)]\tRecon: 0.147573\n",
            "Train Epoch: 2 [12800/60000 (21%)]\tKL: 0.028521\n",
            "\n",
            "Train Epoch: 2 [25600/60000 (43%)]\tLoss: 0.181324\n",
            "Train Epoch: 2 [25600/60000 (43%)]\tRecon: 0.152433\n",
            "Train Epoch: 2 [25600/60000 (43%)]\tKL: 0.028891\n",
            "\n",
            "Train Epoch: 2 [38400/60000 (64%)]\tLoss: 0.179321\n",
            "Train Epoch: 2 [38400/60000 (64%)]\tRecon: 0.148661\n",
            "Train Epoch: 2 [38400/60000 (64%)]\tKL: 0.030660\n",
            "\n",
            "Train Epoch: 2 [51200/60000 (85%)]\tLoss: 0.177263\n",
            "Train Epoch: 2 [51200/60000 (85%)]\tRecon: 0.146150\n",
            "Train Epoch: 2 [51200/60000 (85%)]\tKL: 0.031112\n",
            "\n",
            "====> Epoch: 2 Average loss: 0.1792\n",
            "====> Test set loss: 1.0505\n",
            "Train Epoch: 3 [0/60000 (0%)]\tLoss: 0.177186\n",
            "Train Epoch: 3 [0/60000 (0%)]\tRecon: 0.143989\n",
            "Train Epoch: 3 [0/60000 (0%)]\tKL: 0.033197\n",
            "\n",
            "Train Epoch: 3 [12800/60000 (21%)]\tLoss: 0.178422\n",
            "Train Epoch: 3 [12800/60000 (21%)]\tRecon: 0.142761\n",
            "Train Epoch: 3 [12800/60000 (21%)]\tKL: 0.035661\n",
            "\n",
            "Train Epoch: 3 [25600/60000 (43%)]\tLoss: 0.172020\n",
            "Train Epoch: 3 [25600/60000 (43%)]\tRecon: 0.137238\n",
            "Train Epoch: 3 [25600/60000 (43%)]\tKL: 0.034782\n",
            "\n",
            "Train Epoch: 3 [38400/60000 (64%)]\tLoss: 0.165745\n",
            "Train Epoch: 3 [38400/60000 (64%)]\tRecon: 0.129186\n",
            "Train Epoch: 3 [38400/60000 (64%)]\tKL: 0.036559\n",
            "\n",
            "Train Epoch: 3 [51200/60000 (85%)]\tLoss: 0.168223\n",
            "Train Epoch: 3 [51200/60000 (85%)]\tRecon: 0.131702\n",
            "Train Epoch: 3 [51200/60000 (85%)]\tKL: 0.036521\n",
            "\n",
            "====> Epoch: 3 Average loss: 0.1715\n",
            "====> Test set loss: 1.0103\n",
            "Train Epoch: 4 [0/60000 (0%)]\tLoss: 0.166110\n",
            "Train Epoch: 4 [0/60000 (0%)]\tRecon: 0.131646\n",
            "Train Epoch: 4 [0/60000 (0%)]\tKL: 0.034464\n",
            "\n",
            "Train Epoch: 4 [12800/60000 (21%)]\tLoss: 0.172460\n",
            "Train Epoch: 4 [12800/60000 (21%)]\tRecon: 0.135396\n",
            "Train Epoch: 4 [12800/60000 (21%)]\tKL: 0.037064\n",
            "\n",
            "Train Epoch: 4 [25600/60000 (43%)]\tLoss: 0.166333\n",
            "Train Epoch: 4 [25600/60000 (43%)]\tRecon: 0.127612\n",
            "Train Epoch: 4 [25600/60000 (43%)]\tKL: 0.038721\n",
            "\n",
            "Train Epoch: 4 [38400/60000 (64%)]\tLoss: 0.165606\n",
            "Train Epoch: 4 [38400/60000 (64%)]\tRecon: 0.127245\n",
            "Train Epoch: 4 [38400/60000 (64%)]\tKL: 0.038361\n",
            "\n",
            "Train Epoch: 4 [51200/60000 (85%)]\tLoss: 0.166270\n",
            "Train Epoch: 4 [51200/60000 (85%)]\tRecon: 0.129809\n",
            "Train Epoch: 4 [51200/60000 (85%)]\tKL: 0.036461\n",
            "\n",
            "====> Epoch: 4 Average loss: 0.1662\n",
            "====> Test set loss: 0.9825\n",
            "Train Epoch: 5 [0/60000 (0%)]\tLoss: 0.166224\n",
            "Train Epoch: 5 [0/60000 (0%)]\tRecon: 0.125066\n",
            "Train Epoch: 5 [0/60000 (0%)]\tKL: 0.041158\n",
            "\n",
            "Train Epoch: 5 [12800/60000 (21%)]\tLoss: 0.156588\n",
            "Train Epoch: 5 [12800/60000 (21%)]\tRecon: 0.117202\n",
            "Train Epoch: 5 [12800/60000 (21%)]\tKL: 0.039386\n",
            "\n",
            "Train Epoch: 5 [25600/60000 (43%)]\tLoss: 0.163640\n",
            "Train Epoch: 5 [25600/60000 (43%)]\tRecon: 0.120906\n",
            "Train Epoch: 5 [25600/60000 (43%)]\tKL: 0.042734\n",
            "\n",
            "Train Epoch: 5 [38400/60000 (64%)]\tLoss: 0.162590\n",
            "Train Epoch: 5 [38400/60000 (64%)]\tRecon: 0.121443\n",
            "Train Epoch: 5 [38400/60000 (64%)]\tKL: 0.041147\n",
            "\n",
            "Train Epoch: 5 [51200/60000 (85%)]\tLoss: 0.173689\n",
            "Train Epoch: 5 [51200/60000 (85%)]\tRecon: 0.129450\n",
            "Train Epoch: 5 [51200/60000 (85%)]\tKL: 0.044239\n",
            "\n",
            "====> Epoch: 5 Average loss: 0.1621\n",
            "====> Test set loss: 0.9616\n"
          ],
          "name": "stdout"
        }
      ]
    },
    {
      "metadata": {
        "id": "L_Fe8jFmL4Oy",
        "outputId": "f0a1ec95-29d2-4d3b-c251-d427354cadc4",
        "colab": {
          "base_uri": "https://localhost:8080/",
          "height": 543
        }
      },
      "cell_type": "code",
      "source": [
        "plot_losses(*train_losses, 'training')\n",
        "plot_losses(*test_losses, 'testing')"
      ],
      "execution_count": null,
      "outputs": [
        {
          "output_type": "display_data",
          "data": {
            "image/png": "[encoded data removed]",
            "text/plain": [
              "<matplotlib.figure.Figure at 0x7f697ad82940>"
            ]
          },
          "metadata": {
            "tags": []
          }
        },
        {
          "output_type": "display_data",
          "data": {
            "image/png": "[encoded data removed]",
            "text/plain": [
              "<matplotlib.figure.Figure at 0x7f697ad82d30>"
            ]
          },
          "metadata": {
            "tags": []
          }
        }
      ]
    },
    {
      "metadata": {
        "id": "gbz3TxcyzBVo"
      },
      "cell_type": "code",
      "source": [
        "# Save images from training data\n",
        "import imageio\n",
        "import glob\n",
        "\n",
        "img_path = '/content/results/'\n",
        "img_tmp = 'fixed_reconstruction*.png'\n",
        "\n",
        "images = [\n",
        "    imageio.imread(f) for f in sorted(glob.glob(f\"{img_path}/{img_tmp}\"))\n",
        "]\n",
        "\n",
        "imageio.mimsave(f\"{img_path}/training.gif\", images, duration=0.2)"
      ],
      "execution_count": null,
      "outputs": []
    }
  ]
}