{
  "nbformat": 4,
  "nbformat_minor": 0,
  "metadata": {
    "colab": {
      "name": "nn_from_scratch_numpy.ipynb",
      "provenance": []
    },
    "kernelspec": {
      "name": "python3",
      "display_name": "Python 3"
    },
    "language_info": {
      "name": "python"
    }
  },
  "cells": [
    {
      "cell_type": "markdown",
      "source": [
        "# **Neural Network (Multilayer perceptron) using plain NumPy**"
      ],
      "metadata": {
        "id": "02gqnvZtFpSO"
      }
    },
    {
      "cell_type": "code",
      "execution_count": 143,
      "metadata": {
        "id": "cbfVKvw_9X8P"
      },
      "outputs": [],
      "source": [
        "import numpy as np\n",
        "import pandas as pd\n",
        "from matplotlib import pyplot as plt\n",
        "from sklearn.datasets import fetch_openml\n",
        "from sklearn.model_selection import train_test_split"
      ]
    },
    {
      "cell_type": "code",
      "source": [
        "seed = 2137\n",
        "\n",
        "num_epochs = 250\n",
        "lr = 0.1"
      ],
      "metadata": {
        "id": "RzkeZDeFEcTC"
      },
      "execution_count": 144,
      "outputs": []
    },
    {
      "cell_type": "code",
      "source": [
        "X, Y = fetch_openml(\"mnist_784\", version=1, return_X_y=True, as_frame=False)"
      ],
      "metadata": {
        "id": "ZKI-925n9k5t"
      },
      "execution_count": 145,
      "outputs": []
    },
    {
      "cell_type": "code",
      "source": [
        "X_train, X_test, Y_train, Y_test = train_test_split(X, Y, test_size=0.2, random_state=seed)"
      ],
      "metadata": {
        "id": "fMgFAD9yB2Im"
      },
      "execution_count": 146,
      "outputs": []
    },
    {
      "cell_type": "code",
      "source": [
        "m, n = X_train.shape\n",
        "\n",
        "X_train = X_train.T\n",
        "X_train = X_train/255.\n",
        "\n",
        "X_test = X_test.T\n",
        "X_test = X_test/255.\n",
        "\n",
        "Y_train = Y_train.astype(int)\n",
        "Y_test = Y_test.astype(int)"
      ],
      "metadata": {
        "id": "M4YlsI3kEtpr"
      },
      "execution_count": 147,
      "outputs": []
    },
    {
      "cell_type": "code",
      "source": [
        "def init_params():\n",
        "    W1 = np.random.rand(10, 784) - 0.5\n",
        "    b1 = np.random.rand(10, 1) - 0.5\n",
        "    W2 = np.random.rand(10, 10) - 0.5\n",
        "    b2 = np.random.rand(10, 1) - 0.5\n",
        "\n",
        "    return W1, b1, W2, b2"
      ],
      "metadata": {
        "id": "dCZJv2SbCuKm"
      },
      "execution_count": 148,
      "outputs": []
    },
    {
      "cell_type": "code",
      "source": [
        "def ReLU(Z):\n",
        "    return np.maximum(Z, 0)\n",
        "\n",
        "def softmax(Z):\n",
        "    A = np.exp(Z) / sum(np.exp(Z))\n",
        "    return A"
      ],
      "metadata": {
        "id": "lTlFuOADFIaG"
      },
      "execution_count": 149,
      "outputs": []
    },
    {
      "cell_type": "code",
      "source": [
        "def ReLU_deriv(Z):\n",
        "    return Z > 0"
      ],
      "metadata": {
        "id": "VVd4MSY6FO9p"
      },
      "execution_count": 150,
      "outputs": []
    },
    {
      "cell_type": "code",
      "source": [
        "def forward_prop(W1, b1, W2, b2, X):\n",
        "    Z1 = W1.dot(X) + b1\n",
        "    A1 = ReLU(Z1)\n",
        "    Z2 = W2.dot(A1) + b2\n",
        "    A2 = softmax(Z2)\n",
        "    return Z1, A1, Z2, A2\n",
        "\n",
        "def backward_prop(Z1, A1, Z2, A2, W1, W2, X, Y):\n",
        "    one_hot_Y = one_hot(Y)\n",
        "    dZ2 = A2 - one_hot_Y\n",
        "    dW2 = 1 / m * dZ2.dot(A1.T)\n",
        "    db2 = 1 / m * np.sum(dZ2)\n",
        "    dZ1 = W2.T.dot(dZ2) * ReLU_deriv(Z1)\n",
        "    dW1 = 1 / m * dZ1.dot(X.T)\n",
        "    db1 = 1 / m * np.sum(dZ1)\n",
        "    return dW1, db1, dW2, db2"
      ],
      "metadata": {
        "id": "ZJYONRHVFfwR"
      },
      "execution_count": 151,
      "outputs": []
    },
    {
      "cell_type": "code",
      "source": [
        "def one_hot(Y):\n",
        "    one_hot_Y = np.zeros((Y.size, Y.max() + 1))\n",
        "    one_hot_Y[np.arange(Y.size), Y] = 1\n",
        "    one_hot_Y = one_hot_Y.T\n",
        "    return one_hot_Y"
      ],
      "metadata": {
        "id": "cvWHaV-jFdCA"
      },
      "execution_count": 152,
      "outputs": []
    },
    {
      "cell_type": "code",
      "source": [
        "def update_params(W1, b1, W2, b2, dW1, db1, dW2, db2, alpha):\n",
        "    W1 = W1 - alpha * dW1\n",
        "    b1 = b1 - alpha * db1    \n",
        "    W2 = W2 - alpha * dW2  \n",
        "    b2 = b2 - alpha * db2    \n",
        "    return W1, b1, W2, b2"
      ],
      "metadata": {
        "id": "u_DsqzS4FWUY"
      },
      "execution_count": 153,
      "outputs": []
    },
    {
      "cell_type": "code",
      "source": [
        "def get_predictions(A2):\n",
        "    return np.argmax(A2, 0)\n",
        "\n",
        "def get_accuracy(predictions, Y):\n",
        "    print(Y)\n",
        "    print(predictions)\n",
        "    return np.sum(predictions == Y) / Y.size\n",
        "\n",
        "def gradient_descent(X, Y, alpha, iterations):\n",
        "    W1, b1, W2, b2 = init_params()\n",
        "    for i in range(iterations):\n",
        "        Z1, A1, Z2, A2 = forward_prop(W1, b1, W2, b2, X)\n",
        "        dW1, db1, dW2, db2 = backward_prop(Z1, A1, Z2, A2, W1, W2, X, Y)\n",
        "        W1, b1, W2, b2 = update_params(W1, b1, W2, b2, dW1, db1, dW2, db2, alpha)\n",
        "        if i % 10 == 0:\n",
        "            predictions = get_predictions(A2)\n",
        "            print(f'Epoch {i}, train acc = {get_accuracy(predictions, Y)}')\n",
        "\n",
        "    return W1, b1, W2, b2\n"
      ],
      "metadata": {
        "id": "flLE_5D0Dk1e"
      },
      "execution_count": 154,
      "outputs": []
    },
    {
      "cell_type": "code",
      "source": [
        "W1, b1, W2, b2 = gradient_descent(X_train, Y_train, lr, num_epochs)"
      ],
      "metadata": {
        "colab": {
          "base_uri": "https://localhost:8080/"
        },
        "id": "6TmY9TcsGf_E",
        "outputId": "34f53150-79ea-40d1-fe42-ccb45f1cb425"
      },
      "execution_count": 155,
      "outputs": [
        {
          "output_type": "stream",
          "name": "stdout",
          "text": [
            "[8 9 3 ... 5 4 9]\n",
            "[4 9 8 ... 4 9 9]\n",
            "Epoch 0, train acc = 0.08925\n",
            "[8 9 3 ... 5 4 9]\n",
            "[3 3 2 ... 1 2 3]\n",
            "Epoch 10, train acc = 0.15225\n",
            "[8 9 3 ... 5 4 9]\n",
            "[3 3 2 ... 1 3 3]\n",
            "Epoch 20, train acc = 0.286625\n",
            "[8 9 3 ... 5 4 9]\n",
            "[3 3 2 ... 1 3 3]\n",
            "Epoch 30, train acc = 0.3530357142857143\n",
            "[8 9 3 ... 5 4 9]\n",
            "[3 3 2 ... 1 3 3]\n",
            "Epoch 40, train acc = 0.4047321428571429\n",
            "[8 9 3 ... 5 4 9]\n",
            "[3 9 3 ... 1 3 9]\n",
            "Epoch 50, train acc = 0.4623035714285714\n",
            "[8 9 3 ... 5 4 9]\n",
            "[3 9 3 ... 9 3 9]\n",
            "Epoch 60, train acc = 0.5105178571428571\n",
            "[8 9 3 ... 5 4 9]\n",
            "[9 9 3 ... 9 3 9]\n",
            "Epoch 70, train acc = 0.5451964285714286\n",
            "[8 9 3 ... 5 4 9]\n",
            "[5 9 3 ... 9 3 9]\n",
            "Epoch 80, train acc = 0.5745\n",
            "[8 9 3 ... 5 4 9]\n",
            "[5 9 3 ... 9 9 9]\n",
            "Epoch 90, train acc = 0.6035178571428571\n",
            "[8 9 3 ... 5 4 9]\n",
            "[5 9 3 ... 9 9 9]\n",
            "Epoch 100, train acc = 0.6305357142857143\n",
            "[8 9 3 ... 5 4 9]\n",
            "[5 9 3 ... 5 9 9]\n",
            "Epoch 110, train acc = 0.6540892857142857\n",
            "[8 9 3 ... 5 4 9]\n",
            "[5 9 3 ... 5 4 9]\n",
            "Epoch 120, train acc = 0.6731964285714286\n",
            "[8 9 3 ... 5 4 9]\n",
            "[5 9 3 ... 5 4 9]\n",
            "Epoch 130, train acc = 0.6889464285714286\n",
            "[8 9 3 ... 5 4 9]\n",
            "[5 9 3 ... 5 4 9]\n",
            "Epoch 140, train acc = 0.7027142857142857\n",
            "[8 9 3 ... 5 4 9]\n",
            "[5 9 3 ... 5 4 4]\n",
            "Epoch 150, train acc = 0.7141428571428572\n",
            "[8 9 3 ... 5 4 9]\n",
            "[5 9 3 ... 5 4 4]\n",
            "Epoch 160, train acc = 0.72425\n",
            "[8 9 3 ... 5 4 9]\n",
            "[5 9 3 ... 5 4 4]\n",
            "Epoch 170, train acc = 0.7341785714285715\n",
            "[8 9 3 ... 5 4 9]\n",
            "[5 9 3 ... 5 4 4]\n",
            "Epoch 180, train acc = 0.742375\n",
            "[8 9 3 ... 5 4 9]\n",
            "[5 9 3 ... 5 4 4]\n",
            "Epoch 190, train acc = 0.7497678571428571\n",
            "[8 9 3 ... 5 4 9]\n",
            "[5 9 3 ... 5 4 4]\n",
            "Epoch 200, train acc = 0.7560178571428572\n",
            "[8 9 3 ... 5 4 9]\n",
            "[5 9 3 ... 5 4 4]\n",
            "Epoch 210, train acc = 0.7617857142857143\n",
            "[8 9 3 ... 5 4 9]\n",
            "[5 9 3 ... 5 4 4]\n",
            "Epoch 220, train acc = 0.7671607142857143\n",
            "[8 9 3 ... 5 4 9]\n",
            "[5 9 3 ... 5 4 4]\n",
            "Epoch 230, train acc = 0.7725892857142858\n",
            "[8 9 3 ... 5 4 9]\n",
            "[5 9 3 ... 5 4 4]\n",
            "Epoch 240, train acc = 0.7766785714285714\n"
          ]
        }
      ]
    },
    {
      "cell_type": "code",
      "source": [
        "def make_predictions(X, W1, b1, W2, b2):\n",
        "    _, _, _, A2 = forward_prop(W1, b1, W2, b2, X)\n",
        "    predictions = get_predictions(A2)\n",
        "    return predictions\n",
        "\n",
        "def test_prediction(index, W1, b1, W2, b2):\n",
        "    current_image = X_train[:, index, None]\n",
        "    prediction = make_predictions(X_train[:, index, None], W1, b1, W2, b2)\n",
        "    label = Y_train[index]\n",
        "    print(\"Prediction: \", prediction)\n",
        "    print(\"Label: \", label)\n",
        "    \n",
        "    current_image = current_image.reshape((28, 28)) * 255\n",
        "    plt.gray()\n",
        "    plt.imshow(current_image, interpolation='nearest')\n",
        "    plt.show()"
      ],
      "metadata": {
        "id": "QdLjp_LSGtai"
      },
      "execution_count": 156,
      "outputs": []
    },
    {
      "cell_type": "code",
      "source": [
        "test_prediction(1, W1, b1, W2, b2)"
      ],
      "metadata": {
        "colab": {
          "base_uri": "https://localhost:8080/",
          "height": 300
        },
        "id": "kU8EOS8Vfyqg",
        "outputId": "bb959f30-b284-40fa-b4c6-e25a083f3caf"
      },
      "execution_count": 159,
      "outputs": [
        {
          "output_type": "stream",
          "name": "stdout",
          "text": [
            "Prediction:  [9]\n",
            "Label:  9\n"
          ]
        },
        {
          "output_type": "display_data",
          "data": {
            "text/plain": [
              "<Figure size 432x288 with 1 Axes>"
            ],
            "image/png": "[encoded data removed]"
          },
          "metadata": {
            "needs_background": "light"
          }
        }
      ]
    },
    {
      "cell_type": "code",
      "source": [
        "dev_predictions = make_predictions(X_test, W1, b1, W2, b2)\n",
        "print(f'test acc = {get_accuracy(dev_predictions, Y_test)}')"
      ],
      "metadata": {
        "colab": {
          "base_uri": "https://localhost:8080/"
        },
        "id": "b2GJekLAgA6c",
        "outputId": "ffc0036b-b698-45da-e515-c0e4b8bed1ab"
      },
      "execution_count": 158,
      "outputs": [
        {
          "output_type": "stream",
          "name": "stdout",
          "text": [
            "[7 4 4 ... 8 1 6]\n",
            "[7 9 4 ... 8 1 6]\n",
            "test acc = 0.7802142857142857\n"
          ]
        }
      ]
    }
  ]
}